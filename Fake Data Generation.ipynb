{
 "cells": [
  {
   "cell_type": "markdown",
   "id": "5292860c",
   "metadata": {},
   "source": [
    "# 1 Setup & Initial Configuration\n",
    "##### Import required packages and configure the generator."
   ]
  },
  {
   "cell_type": "code",
   "execution_count": 2,
   "id": "92f6dabc",
   "metadata": {},
   "outputs": [],
   "source": [
    "# import common packages\n",
    "import math\n",
    "import matplotlib.pyplot as pp\n",
    "import numpy as np\n",
    "import pandas as pd\n",
    "import seaborn\n",
    "import sklearn\n",
    "import tslearn\n",
    "\n",
    "from collections import OrderedDict\n",
    "from tqdm import tqdm"
   ]
  },
  {
   "cell_type": "code",
   "execution_count": 3,
   "id": "ceeb71a4",
   "metadata": {},
   "outputs": [],
   "source": [
    "# import Faker package\n",
    "from faker import Faker\n",
    "\n",
    "# Call BaseProvider (contains address, bank, barcode, company, job, etc.)\n",
    "from faker.providers import BaseProvider\n",
    "\n",
    "# Call DynamicProvider (optional - it allows injection of external sources)\n",
    "from faker.providers import DynamicProvider"
   ]
  },
  {
   "cell_type": "markdown",
   "id": "4ebb8d67",
   "metadata": {},
   "source": [
    "# 2 Generator Setup\n",
    "##### Define the required functions and config parameters that determines the data generated."
   ]
  },
  {
   "cell_type": "markdown",
   "id": "4cbc2f1b",
   "metadata": {},
   "source": [
    "## Locale Configuration\n",
    "### Option 1 - Single Localized Provider: Use the cell below for single locale configuration.\n",
    "#### **Format: fake = Faker('locale')"
   ]
  },
  {
   "cell_type": "code",
   "execution_count": 12,
   "id": "d1bae7aa",
   "metadata": {},
   "outputs": [],
   "source": [
    "# Choose Locale (locale code can be found at: https://faker.readthedocs.io/en/master/locales.html)\n",
    "fake = Faker('en_AU')"
   ]
  },
  {
   "cell_type": "code",
   "execution_count": null,
   "id": "0e0718e3",
   "metadata": {},
   "outputs": [],
   "source": [
    "# Seeding (optional - default is 0)\n",
    "# fake.seed_locale('en_AU', 0)"
   ]
  },
  {
   "cell_type": "markdown",
   "id": "71e9c2f1",
   "metadata": {},
   "source": [
    "### Option 2 - Multi Localized Provider: Use the cell below for multiple locale configuration, these allows data from different localized provider to be generated at the same time by a given weight.\n",
    "#### **Format: ('locale', weight)"
   ]
  },
  {
   "cell_type": "code",
   "execution_count": 5,
   "id": "9956e72c",
   "metadata": {},
   "outputs": [],
   "source": [
    "# Add all wanted localized providers to OrderedDict and assign a weight\n",
    "# locales = OrderedDict([\n",
    "#     ('en_AU', 98),\n",
    "#     ('en_US', 1),\n",
    "#     ('ja_JP', 1)\n",
    "# ])\n",
    "# fake = Faker(locales)\n",
    "\n",
    "# # Get list of locales (optional - view config result)\n",
    "# # fake.locales\n",
    "\n",
    "# # Get list of internal generator (otpional - view config result)\n",
    "# fake.factories"
   ]
  },
  {
   "cell_type": "code",
   "execution_count": 6,
   "id": "093dea29",
   "metadata": {},
   "outputs": [],
   "source": [
    "# Seeds (optional - default is 0)\n",
    "# Faker.seed(0)\n",
    "\n",
    "# Explicitly call to seed instances within function (replace # with value)\n",
    "# Faker.seed_instance(0)\n",
    "\n",
    "# Call random instance\n",
    "# fake.random\n",
    "\n",
    "# Seeds for multi-locale\n",
    "# fake.seed_locale('en_AU', 0)"
   ]
  },
  {
   "cell_type": "markdown",
   "id": "7401f0af",
   "metadata": {},
   "source": [
    "## Generator Configuration\n",
    "### Defines data generation function, generated data will be populated in a panda dataframe."
   ]
  },
  {
   "cell_type": "code",
   "execution_count": 8,
   "id": "390ed0b7",
   "metadata": {},
   "outputs": [],
   "source": [
    "# Define Dynamic Provider Functions\n",
    "def dp_variables(dp_name, dp_elements):\n",
    "    fake_provier = DynamicProvider(\n",
    "        provider_name = dp_name,\n",
    "        elements = dp_elements)\n",
    "    fake.add_provider(fake_provier)"
   ]
  },
  {
   "cell_type": "code",
   "execution_count": null,
   "id": "e6b82561",
   "metadata": {},
   "outputs": [],
   "source": [
    "# Define Data Elements Function\n"
   ]
  },
  {
   "cell_type": "markdown",
   "id": "7a7a65a3",
   "metadata": {},
   "source": [
    "### Configure Parameters\n",
    "* Number of rows (x)\n",
    "* Dynamic providers (optional)\n",
    "* Data Elements"
   ]
  },
  {
   "cell_type": "code",
   "execution_count": null,
   "id": "288b6636",
   "metadata": {},
   "outputs": [],
   "source": [
    "# Number of rows (x):\n",
    "x = 200"
   ]
  },
  {
   "cell_type": "code",
   "execution_count": 9,
   "id": "9543ea78",
   "metadata": {},
   "outputs": [],
   "source": [
    "# Define all required dynamic providers, which is only required to generate self-defined random variables\n",
    "# (optional - only required if using DynamicProvider)\n",
    "# Note: This CELL can be reused to add multiple dynamic providers, just given a different name and re-run/copy the CELL.\n",
    "\n",
    "dp_name = \"dp_name\" # Select a fitting name for your provider\n",
    "\n",
    "dp_elements = [\"element 1\", \"element 2\",\"...\"] # Elements within the array will be selected randomly when generating data\n",
    "\n",
    "dp_variables(dp_name, dp_elements) # Don't touch."
   ]
  },
  {
   "cell_type": "code",
   "execution_count": null,
   "id": "5fa371f3",
   "metadata": {},
   "outputs": [],
   "source": [
    "# Define data elements (more info: https://faker.readthedocs.io/en/master/providers.html)\n",
    "\n",
    "def generate_fake():\n",
    "    x = x\n",
    "    data = pd.DataFrame()\n",
    "    for i in tqdm(range(x), desc = 'Creating DataFrame'): # Configure element name, provider, and format below. \n",
    "        data.loc[i, 'element_1_name'] = fake.bothify(text = '###-###-###') # Add more rows for addtional data elements.\n",
    "    return data"
   ]
  },
  {
   "cell_type": "markdown",
   "id": "02bfa2f4",
   "metadata": {},
   "source": [
    "### Below is a slightly more complicated sample, also can be used as an alternative."
   ]
  },
  {
   "cell_type": "code",
   "execution_count": null,
   "id": "a64d8e6e",
   "metadata": {},
   "outputs": [],
   "source": [
    "# One Formula Alternative (optional - this is a one formula which bypasses all required Generator Configuration)\n",
    "# def create_dataframe():\n",
    "#     x = 200\n",
    "#     data = pd.DataFrame()\n",
    "#     fake_titles_provier = DynamicProvider(\n",
    "#         provider_name = \"fake_titles\",\n",
    "#         elements = [\"\", \"\",\"\", \"\", \"\", \"\", \" \", \"Mr.\", \"Ms\", \"Miss\", \"Dr.\", \"Mr\", \"Prof\", \"staff\"])\n",
    "#     fake.add_provider(fake_titles_provier)\n",
    "#     for i in tqdm(range(x), desc = 'Creating DataFrame'):\n",
    "#         data.loc[i, 'TFN'] = fake.bothify(text = '###-###-###')\n",
    "#         data.loc[i, 'Title'] = fake.fake_titles()\n",
    "#         data.loc[i, 'FirstName'] = fake.first_name()\n",
    "#         data.loc[i, 'MiddleName'] = fake.last_name()\n",
    "#         data.loc[i, 'LastName'] = fake.last_name()\n",
    "#         data.loc[i, 'Phone'] = fake.phone_number()\n",
    "#         data.loc[i, 'Email'] = fake.email()\n",
    "#         data.loc[i, 'Address_Street'] = fake.street_address()\n",
    "#         data.loc[i, 'Address_Suburb'] = fake.city()\n",
    "#         data.loc[i, 'Address_State'] = fake.administrative_unit()\n",
    "#         data.loc[i, 'Address_PostCode'] = fake.postcode()\n",
    "#         data.loc[i, 'ABN'] = fake.bothify(text = '## ### ### ###')\n",
    "#         data.loc[i, 'ACN'] = fake.bothify(text = '### ### ###')\n",
    "#         data.loc[i, 'BusinessName'] = fake.company() + \" \" + fake.company_suffix()\n",
    "#     return data"
   ]
  },
  {
   "cell_type": "markdown",
   "id": "2ab09d5b",
   "metadata": {},
   "source": [
    "# 3 Generate Data\n",
    "##### Simply run the code below to generate your data."
   ]
  },
  {
   "cell_type": "code",
   "execution_count": 9,
   "id": "2e879fc4",
   "metadata": {},
   "outputs": [
    {
     "name": "stderr",
     "output_type": "stream",
     "text": [
      "Creating DataFrame: 100%|███████████████████████████████████████████████████████████| 200/200 [00:01<00:00, 106.25it/s]\n"
     ]
    }
   ],
   "source": [
    "dummy_data = generate_fake()"
   ]
  },
  {
   "cell_type": "code",
   "execution_count": 14,
   "id": "dbafb189",
   "metadata": {},
   "outputs": [
    {
     "name": "stdout",
     "output_type": "stream",
     "text": [
      "<pandas.io.formats.style.Styler object at 0x0000022C8464A880>\n"
     ]
    }
   ],
   "source": [
    "# Optional - view data generated\n",
    "print(dummy_data)"
   ]
  },
  {
   "cell_type": "markdown",
   "id": "6106f691",
   "metadata": {},
   "source": [
    "### Export to CSV"
   ]
  },
  {
   "cell_type": "code",
   "execution_count": 15,
   "id": "7139fb9b",
   "metadata": {},
   "outputs": [],
   "source": [
    "dummy_data.to_csv('Dummy_Data_No_Index.csv', index = False)"
   ]
  },
  {
   "cell_type": "markdown",
   "id": "f51003e6",
   "metadata": {},
   "source": [
    "##  Done - Go to your project folder to retrive generated data."
   ]
  },
  {
   "cell_type": "markdown",
   "id": "5054a9ac",
   "metadata": {},
   "source": [
    "# Test Ground\n",
    "##### TestGround for any basic test the values you want to generate, contains some samples."
   ]
  },
  {
   "cell_type": "markdown",
   "id": "b869ad17",
   "metadata": {},
   "source": [
    "### Att 1. TFN"
   ]
  },
  {
   "cell_type": "code",
   "execution_count": 102,
   "id": "69ea8280",
   "metadata": {},
   "outputs": [],
   "source": [
    "# TFN\n",
    "# for _ in range(20):\n",
    "#     print(fake.bothify(text = '###-###-###'))"
   ]
  },
  {
   "cell_type": "markdown",
   "id": "4e5ced55",
   "metadata": {},
   "source": [
    "### Att 2. Prefix"
   ]
  },
  {
   "cell_type": "code",
   "execution_count": 103,
   "id": "1eb5a977",
   "metadata": {},
   "outputs": [],
   "source": [
    "# Create external sources called fake_titles (only required for custom outputs)\n",
    "# fake_titles_provier = DynamicProvider(\n",
    "#     provider_name = \"fake_titles\",\n",
    "#     elements = [\"\", \"\",\"\", \"\", \"\", \"\", \" \", \"Mr.\", \"Ms\", \"Miss\", \"Dr.\", \"Mr\", \"Prof\", \"staff\"]\n",
    "# )"
   ]
  },
  {
   "cell_type": "code",
   "execution_count": 104,
   "id": "7e6c9d49",
   "metadata": {},
   "outputs": [],
   "source": [
    "# add new provider to instance\n",
    "# fake.add_provider(fake_titles_provier)"
   ]
  },
  {
   "cell_type": "code",
   "execution_count": 105,
   "id": "e666bffe",
   "metadata": {},
   "outputs": [],
   "source": [
    "# Test\n",
    "# for _ in range(20):\n",
    "#     print(fake.fake_titles())"
   ]
  },
  {
   "cell_type": "code",
   "execution_count": 64,
   "id": "d9483791",
   "metadata": {},
   "outputs": [],
   "source": [
    "# Aternatively, use .random_elements\n",
    "# for _ in range (20):\n",
    "#     print(fake.random_element(elements = OrderedDict(\n",
    "#     [\n",
    "#         (\"\", 50),\n",
    "#         (\"Mr\", 10),\n",
    "#         (\"Mr.\", 10),\n",
    "#         (\"Ms\", 10),\n",
    "#         (\"Miss\", 10),\n",
    "#         (\"Dr.\", 6),\n",
    "#         (\"Prof\", 3),\n",
    "#         (\"staff\", 1)\n",
    "#     ])))"
   ]
  },
  {
   "cell_type": "markdown",
   "id": "96189a3a",
   "metadata": {},
   "source": [
    "### Att 3. Name"
   ]
  },
  {
   "cell_type": "code",
   "execution_count": 77,
   "id": "e825c9db",
   "metadata": {},
   "outputs": [],
   "source": [
    "# Freetxt name\n",
    "# for _ in range(20):\n",
    "#     print(fake.name())"
   ]
  },
  {
   "cell_type": "code",
   "execution_count": 106,
   "id": "8d78a542",
   "metadata": {},
   "outputs": [],
   "source": [
    "# # First Name\n",
    "# for _ in range(20):\n",
    "#     print(fake.first_name())"
   ]
  },
  {
   "cell_type": "code",
   "execution_count": 107,
   "id": "4e135d3d",
   "metadata": {},
   "outputs": [],
   "source": [
    "# Middle & Last Name\n",
    "# for _ in range(20):\n",
    "#     print(fake.last_name())"
   ]
  },
  {
   "cell_type": "markdown",
   "id": "530027c5",
   "metadata": {},
   "source": [
    "### Att 4. Phone No"
   ]
  },
  {
   "cell_type": "code",
   "execution_count": 108,
   "id": "20da0bcd",
   "metadata": {},
   "outputs": [],
   "source": [
    "# Phone No.\n",
    "# for _ in range(20):\n",
    "#     print(fake.phone_number())"
   ]
  },
  {
   "cell_type": "markdown",
   "id": "dd58344a",
   "metadata": {},
   "source": [
    "### Att 5. Email"
   ]
  },
  {
   "cell_type": "code",
   "execution_count": 109,
   "id": "3845dfb7",
   "metadata": {},
   "outputs": [],
   "source": [
    "# test generate random address\n",
    "# for _ in range(20):\n",
    "#     print(fake.email())"
   ]
  },
  {
   "cell_type": "markdown",
   "id": "78d54ff9",
   "metadata": {},
   "source": [
    "### Att 6. Address"
   ]
  },
  {
   "cell_type": "code",
   "execution_count": 90,
   "id": "a0b340c2",
   "metadata": {},
   "outputs": [],
   "source": [
    "# Address\n",
    "# for _ in range(20):\n",
    "#     print(fake.address())"
   ]
  },
  {
   "cell_type": "code",
   "execution_count": 110,
   "id": "39641bd0",
   "metadata": {},
   "outputs": [],
   "source": [
    "# Street Address\n",
    "# for _ in range(20):\n",
    "#     print(fake.street_address())"
   ]
  },
  {
   "cell_type": "code",
   "execution_count": 111,
   "id": "6e8c0d42",
   "metadata": {},
   "outputs": [],
   "source": [
    "# Suburb\n",
    "# for _ in range(20):\n",
    "#     print(fake.city())"
   ]
  },
  {
   "cell_type": "code",
   "execution_count": 112,
   "id": "3367f616",
   "metadata": {},
   "outputs": [],
   "source": [
    "# # State\n",
    "# for _ in range(20):\n",
    "#     print(fake.administrative_unit())"
   ]
  },
  {
   "cell_type": "code",
   "execution_count": 113,
   "id": "cfb1512e",
   "metadata": {},
   "outputs": [],
   "source": [
    "# Postcode\n",
    "# for _ in range(20):\n",
    "#     print(fake.postcode())"
   ]
  },
  {
   "cell_type": "markdown",
   "id": "f259b91d",
   "metadata": {},
   "source": [
    "### Att 7. ABN"
   ]
  },
  {
   "cell_type": "code",
   "execution_count": 114,
   "id": "be818d98",
   "metadata": {},
   "outputs": [],
   "source": [
    "# ABN\n",
    "# for _ in range(20):\n",
    "#     print(fake.bothify(text = '## ### ### ###'))"
   ]
  },
  {
   "cell_type": "markdown",
   "id": "6994890d",
   "metadata": {},
   "source": [
    "### Att 8. ACN"
   ]
  },
  {
   "cell_type": "code",
   "execution_count": 115,
   "id": "6b01fe0e",
   "metadata": {},
   "outputs": [],
   "source": [
    "# ACN\n",
    "# for _ in range(20):\n",
    "#     print(fake.bothify(text = '### ### ###'))"
   ]
  },
  {
   "cell_type": "markdown",
   "id": "fbda875d",
   "metadata": {},
   "source": [
    "### Att 9. Business Name"
   ]
  },
  {
   "cell_type": "code",
   "execution_count": 116,
   "id": "1b1db7c6",
   "metadata": {},
   "outputs": [],
   "source": [
    "# for _ in range(20):\n",
    "#     print(fake.company() + \" \" + fake.company_suffix())"
   ]
  },
  {
   "cell_type": "markdown",
   "id": "bb08265e",
   "metadata": {},
   "source": []
  },
  {
   "cell_type": "code",
   "execution_count": null,
   "id": "cd6e161d",
   "metadata": {},
   "outputs": [],
   "source": []
  }
 ],
 "metadata": {
  "kernelspec": {
   "display_name": "Python 3",
   "language": "python",
   "name": "python3"
  },
  "language_info": {
   "codemirror_mode": {
    "name": "ipython",
    "version": 3
   },
   "file_extension": ".py",
   "mimetype": "text/x-python",
   "name": "python",
   "nbconvert_exporter": "python",
   "pygments_lexer": "ipython3",
   "version": "3.8.8"
  }
 },
 "nbformat": 4,
 "nbformat_minor": 5
}
